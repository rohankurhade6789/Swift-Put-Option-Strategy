{
 "cells": [
  {
   "cell_type": "code",
   "execution_count": 1,
   "metadata": {},
   "outputs": [
    {
     "name": "stdout",
     "output_type": "stream",
     "text": [
      "{'contract': 2578301292896: 640055551,DALBHARAT,OPT,20230928,2260.0,C,1,NSE,,INR,DALBHARAT23SEP2260CE,DALBHARAT,False,,combo:, 'current_pos_in_lots': 1.0, 'is_complete': False}\n",
      "{'contract': 2578302312800: 639980767,SHREECEM,OPT,20230928,25500.0,C,1,NSE,,INR,SHREECEM23SEP25500CE,SHREECEM,False,,combo:, 'current_pos_in_lots': 1.0, 'is_complete': False}\n",
      "{'contract': 2578302315488: 640006852,SAIL,OPT,20230928,103.0,C,1,NSE,,INR,SAIL23SEP103CE,SAIL,False,,combo:, 'current_pos_in_lots': 1.0, 'is_complete': False}\n",
      "{'contract': 2578692710944: 640059196,IDFCFIRST,OPT,20230928,99.0,C,1,NSE,,INR,IDFCFIRSTB23SEP99CE,IDFCFIRSTB,False,,combo:, 'current_pos_in_lots': 1.0, 'is_complete': False}\n",
      "{'contract': 2578692713728: 640074421,NATIONALU,OPT,20230928,104.0,C,1,NSE,,INR,NATIONALUM23SEP104CE,NATIONALUM,False,,combo:, 'current_pos_in_lots': 1.0, 'is_complete': False}\n"
     ]
    }
   ],
   "source": [
    "import os\n",
    "import pickle\n",
    "\n",
    "file = 'strategy.trade_data'\n",
    "if not os.path.exists(file):\n",
    "    print('hey')\n",
    "with open(file, 'rb') as f:\n",
    "    trade_data = pickle.load(f)\n",
    "for stk in trade_data:   \n",
    "    print(trade_data[stk].__dict__)"
   ]
  },
  {
   "cell_type": "code",
   "execution_count": 2,
   "metadata": {},
   "outputs": [
    {
     "name": "stdout",
     "output_type": "stream",
     "text": [
      "{'contract': 2383040621408: 638231383,PEL,OPT,20230831,1060.0,C,1,NSE,,INR,PEL23AUG1060CE,PEL,False,,combo:, 'current_pos_in_lots': 1.0, 'is_complete': False}\n",
      "{'contract': 2383040621552: 633627927,ULTRACEMC,OPT,20230831,8250.0,C,1,NSE,,INR,ULTRACEMCO23AUG8250CE,ULTRACEMCO,False,,combo:, 'current_pos_in_lots': 1.0, 'is_complete': False}\n",
      "{'contract': 2383040621696: 633665855,ESCORTS,OPT,20230831,2720.0,C,1,NSE,,INR,ESCORTS23AUG2720CE,ESCORTS,False,,combo:, 'current_pos_in_lots': 1.0, 'is_complete': False}\n",
      "{'contract': 2383040621840: 638551162,LUPIN,OPT,20230831,1110.0,C,1,NSE,,INR,LUPIN23AUG1110CE,LUPIN,False,,combo:, 'current_pos_in_lots': 1.0, 'is_complete': False}\n",
      "{'PEL': <nts_trade.NTSTrade object at 0x0000022AD84A24D0>, 'ULTRACEMC': <nts_trade.NTSTrade object at 0x0000022AD84A2BC0>, 'ESCORTS': <nts_trade.NTSTrade object at 0x0000022AD84A2C50>, 'LUPIN': <nts_trade.NTSTrade object at 0x0000022AD84A2CE0>}\n"
     ]
    }
   ],
   "source": [
    "import os\n",
    "import pickle\n",
    "\n",
    "def write_trade_data():\n",
    "    file = 'strategy.trade_data'\n",
    "    with open(file, 'wb') as f:\n",
    "        pickle.dump(trade_dataaa, f)\n",
    "\n",
    "trade_dataaa = {}\n",
    "\n",
    "file = 'strategy.trade_data'\n",
    "if not os.path.exists(file):\n",
    "    print('hey')\n",
    "with open(file, 'rb') as f:\n",
    "    trade_data = pickle.load(f)\n",
    "    # print(trade_data)\n",
    "for stk in ['PEL','ULTRACEMC','ESCORTS','LUPIN']:   \n",
    "    print(trade_data[stk].__dict__)\n",
    "    trade_dataaa[stk] = trade_data[stk]\n",
    "print(trade_dataaa)\n",
    "\n",
    "write_trade_data()"
   ]
  },
  {
   "cell_type": "code",
   "execution_count": 7,
   "metadata": {},
   "outputs": [
    {
     "name": "stdout",
     "output_type": "stream",
     "text": [
      "1692790734.5114233\n"
     ]
    }
   ],
   "source": [
    "import time\n",
    "start_time = time.time()\n",
    "print(start_time)\n",
    "if start_time in [10, 20]:\n",
    "    print('hey')"
   ]
  },
  {
   "cell_type": "code",
   "execution_count": 3,
   "metadata": {},
   "outputs": [
    {
     "name": "stdout",
     "output_type": "stream",
     "text": [
      "01:04\r"
     ]
    },
    {
     "ename": "KeyboardInterrupt",
     "evalue": "",
     "output_type": "error",
     "traceback": [
      "\u001b[1;31m---------------------------------------------------------------------------\u001b[0m",
      "\u001b[1;31mKeyboardInterrupt\u001b[0m                         Traceback (most recent call last)",
      "\u001b[1;32mc:\\Users\\mahen\\Desktop\\GITHUB\\Swift Strategy Prac\\prac.ipynb Cell 4\u001b[0m in \u001b[0;36m<cell line: 20>\u001b[1;34m()\u001b[0m\n\u001b[0;32m     <a href='vscode-notebook-cell:/c%3A/Users/mahen/Desktop/GITHUB/Swift%20Strategy%20Prac/prac.ipynb#W3sZmlsZQ%3D%3D?line=16'>17</a>\u001b[0m t \u001b[39m=\u001b[39m \u001b[39m70\u001b[39m\n\u001b[0;32m     <a href='vscode-notebook-cell:/c%3A/Users/mahen/Desktop/GITHUB/Swift%20Strategy%20Prac/prac.ipynb#W3sZmlsZQ%3D%3D?line=18'>19</a>\u001b[0m \u001b[39m# function call\u001b[39;00m\n\u001b[1;32m---> <a href='vscode-notebook-cell:/c%3A/Users/mahen/Desktop/GITHUB/Swift%20Strategy%20Prac/prac.ipynb#W3sZmlsZQ%3D%3D?line=19'>20</a>\u001b[0m countdown(\u001b[39mint\u001b[39;49m(t))\n",
      "\u001b[1;32mc:\\Users\\mahen\\Desktop\\GITHUB\\Swift Strategy Prac\\prac.ipynb Cell 4\u001b[0m in \u001b[0;36mcountdown\u001b[1;34m(t)\u001b[0m\n\u001b[0;32m      <a href='vscode-notebook-cell:/c%3A/Users/mahen/Desktop/GITHUB/Swift%20Strategy%20Prac/prac.ipynb#W3sZmlsZQ%3D%3D?line=7'>8</a>\u001b[0m     timer \u001b[39m=\u001b[39m \u001b[39m'\u001b[39m\u001b[39m{:02d}\u001b[39;00m\u001b[39m:\u001b[39m\u001b[39m{:02d}\u001b[39;00m\u001b[39m'\u001b[39m\u001b[39m.\u001b[39mformat(mins, secs)\n\u001b[0;32m      <a href='vscode-notebook-cell:/c%3A/Users/mahen/Desktop/GITHUB/Swift%20Strategy%20Prac/prac.ipynb#W3sZmlsZQ%3D%3D?line=8'>9</a>\u001b[0m     \u001b[39mprint\u001b[39m(timer, end\u001b[39m=\u001b[39m\u001b[39m\"\u001b[39m\u001b[39m\\r\u001b[39;00m\u001b[39m\"\u001b[39m)\n\u001b[1;32m---> <a href='vscode-notebook-cell:/c%3A/Users/mahen/Desktop/GITHUB/Swift%20Strategy%20Prac/prac.ipynb#W3sZmlsZQ%3D%3D?line=9'>10</a>\u001b[0m     time\u001b[39m.\u001b[39;49msleep(\u001b[39m1\u001b[39;49m)\n\u001b[0;32m     <a href='vscode-notebook-cell:/c%3A/Users/mahen/Desktop/GITHUB/Swift%20Strategy%20Prac/prac.ipynb#W3sZmlsZQ%3D%3D?line=10'>11</a>\u001b[0m     t \u001b[39m-\u001b[39m\u001b[39m=\u001b[39m \u001b[39m1\u001b[39m\n\u001b[0;32m     <a href='vscode-notebook-cell:/c%3A/Users/mahen/Desktop/GITHUB/Swift%20Strategy%20Prac/prac.ipynb#W3sZmlsZQ%3D%3D?line=12'>13</a>\u001b[0m \u001b[39mprint\u001b[39m(\u001b[39m'\u001b[39m\u001b[39mFire in the hole!!\u001b[39m\u001b[39m'\u001b[39m)\n",
      "\u001b[1;31mKeyboardInterrupt\u001b[0m: "
     ]
    }
   ],
   "source": [
    "\n",
    "# import the time module\n",
    "import time\n",
    "  \n",
    "# define the countdown func.\n",
    "def countdown(t):   \n",
    "    while t:\n",
    "        mins, secs = divmod(t, 60)\n",
    "        timer = '{:02d}:{:02d}'.format(mins, secs)\n",
    "        print(timer, end=\"\\r\")\n",
    "        time.sleep(1)\n",
    "        t -= 1\n",
    "      \n",
    "    print('Fire in the hole!!')\n",
    "  \n",
    "  \n",
    "# input time in seconds\n",
    "t = 70\n",
    "  \n",
    "# function call\n",
    "countdown(int(t))"
   ]
  }
 ],
 "metadata": {
  "kernelspec": {
   "display_name": "Python 3",
   "language": "python",
   "name": "python3"
  },
  "language_info": {
   "codemirror_mode": {
    "name": "ipython",
    "version": 3
   },
   "file_extension": ".py",
   "mimetype": "text/x-python",
   "name": "python",
   "nbconvert_exporter": "python",
   "pygments_lexer": "ipython3",
   "version": "3.9.13"
  },
  "orig_nbformat": 4
 },
 "nbformat": 4,
 "nbformat_minor": 2
}
